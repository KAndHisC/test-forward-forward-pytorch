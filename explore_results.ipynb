{
 "cells": [
  {
   "cell_type": "code",
   "execution_count": null,
   "metadata": {},
   "outputs": [],
   "source": [
    "import json"
   ]
  },
  {
   "cell_type": "code",
   "execution_count": null,
   "metadata": {},
   "outputs": [],
   "source": [
    "with open(\"results.json\", \"r\") as f:\n",
    "    results = json.load(f)"
   ]
  },
  {
   "cell_type": "code",
   "execution_count": null,
   "metadata": {},
   "outputs": [],
   "source": [
    "# plot the results in a plot with three curves. The x axis will contain the number of layers, the y axis will contain the memory occupied.\n",
    "\n",
    "import matplotlib.pyplot as plt\n",
    "\n",
    "n_layers = list(results.keys())\n",
    "base_ff_memory = [results[n][\"base_ff\"] for n in n_layers]\n",
    "recurrent_ff_memory = [results[n][\"recurrent_ff\"] for n in n_layers]\n",
    "backprop_memory = [results[n][\"backprop\"] for n in n_layers]\n",
    "\n",
    "plt.plot(n_layers, base_ff_memory, label=\"base_ff\")\n",
    "plt.plot(n_layers, recurrent_ff_memory, label=\"recurrent_ff\")\n",
    "plt.plot(n_layers, backprop_memory, label=\"backprop\")\n",
    "plt.legend()\n",
    "plt.xlabel(\"Number of layers\")\n",
    "plt.ylabel(\"Memory (MB)\")\n",
    "plt.show()"
   ]
  },
  {
   "cell_type": "code",
   "execution_count": null,
   "metadata": {},
   "outputs": [],
   "source": [
    "# now let's plots the plot above in a histogram\n",
    "\n",
    "import numpy as np\n",
    "\n",
    "n_layers = np.array(n_layers).astype(float)\n",
    "base_ff_memory = np.array(base_ff_memory).astype(float) / 1e6\n",
    "recurrent_ff_memory = np.array(recurrent_ff_memory).astype(float) / 1e6 / 2  # bs was doubled\n",
    "backprop_memory = np.array(backprop_memory).astype(float) / 1e6\n",
    "\n",
    "width = 1\n",
    "\n",
    "plt.bar(n_layers - width, base_ff_memory, width=width, label=\"base_ff\", color=\"#2ACD8F\")\n",
    "plt.bar(n_layers, recurrent_ff_memory, width=width, label=\"recurrent_ff\", color=\"#2AA48F\")\n",
    "plt.bar(n_layers + width, backprop_memory, width=width, label=\"backprop\", color=\"#00A5C7\")\n",
    "plt.legend()\n",
    "plt.title(\"Memory performance of Geoffrey Hinton's Forward-Forward Algorithm versus backpropagation\")\n",
    "plt.xlabel(\"Number of layers\")\n",
    "plt.ylabel(\"Memory (MB)\")\n",
    "\n",
    "plt.show()"
   ]
  },
  {
   "cell_type": "code",
   "execution_count": null,
   "metadata": {},
   "outputs": [],
   "source": []
  }
 ],
 "metadata": {
  "kernelspec": {
   "display_name": "experiments_env",
   "language": "python",
   "name": "python3"
  },
  "language_info": {
   "codemirror_mode": {
    "name": "ipython",
    "version": 3
   },
   "file_extension": ".py",
   "mimetype": "text/x-python",
   "name": "python",
   "nbconvert_exporter": "python",
   "pygments_lexer": "ipython3",
   "version": "3.8.13"
  },
  "orig_nbformat": 4,
  "vscode": {
   "interpreter": {
    "hash": "d42d9bb7b6005f5d829479bac7f76281600f61b67083b81ccfcd8f0ea9e42203"
   }
  }
 },
 "nbformat": 4,
 "nbformat_minor": 2
}
